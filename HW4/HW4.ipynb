{
 "cells": [
  {
   "cell_type": "markdown",
   "metadata": {},
   "source": [
    "# HW4 Chenyu Zhao"
   ]
  },
  {
   "cell_type": "markdown",
   "metadata": {},
   "source": [
    "# Problem 4.1"
   ]
  },
  {
   "cell_type": "code",
   "execution_count": 1,
   "metadata": {},
   "outputs": [],
   "source": [
    "import pandas as pd\n",
    "import numpy as np\n",
    "from sklearn.linear_model import LinearRegression\n",
    "import statsmodels.api as sm\n",
    "from scipy.stats import pearsonr"
   ]
  },
  {
   "cell_type": "code",
   "execution_count": 2,
   "metadata": {},
   "outputs": [],
   "source": [
    "data = pd.read_csv('BetaExample.txt',sep=\"|\")\n",
    "data.DATE=pd.to_datetime(data.DATE)\n",
    "data=data.dropna()"
   ]
  },
  {
   "cell_type": "code",
   "execution_count": 3,
   "metadata": {},
   "outputs": [],
   "source": [
    "data1=data.loc[data.TICKER==\"IBM\"]\n",
    "data2=data.loc[data.TICKER==\"AAPL\"]\n",
    "data3=data.loc[data.TICKER==\"TSLA\"]"
   ]
  },
  {
   "cell_type": "markdown",
   "metadata": {},
   "source": [
    "## (a)"
   ]
  },
  {
   "cell_type": "markdown",
   "metadata": {},
   "source": [
    "### IBM"
   ]
  },
  {
   "cell_type": "code",
   "execution_count": 4,
   "metadata": {},
   "outputs": [],
   "source": [
    "d=data1[data1.DATE<pd.to_datetime(\"2015-01-01\")]\n",
    "X=np.array(d[[\"RM\"]])\n",
    "y=np.array(d[\"R\"])"
   ]
  },
  {
   "cell_type": "code",
   "execution_count": 5,
   "metadata": {},
   "outputs": [
    {
     "name": "stdout",
     "output_type": "stream",
     "text": [
      "                            OLS Regression Results                            \n",
      "==============================================================================\n",
      "Dep. Variable:                      y   R-squared:                       0.332\n",
      "Model:                            OLS   Adj. R-squared:                  0.332\n",
      "Method:                 Least Squares   F-statistic:                     3133.\n",
      "Date:                Wed, 03 Apr 2019   Prob (F-statistic):               0.00\n",
      "Time:                        10:09:54   Log-Likelihood:                 17657.\n",
      "No. Observations:                6301   AIC:                        -3.531e+04\n",
      "Df Residuals:                    6300   BIC:                        -3.531e+04\n",
      "Df Model:                           1                                         \n",
      "Covariance Type:            nonrobust                                         \n",
      "==============================================================================\n",
      "                 coef    std err          t      P>|t|      [0.025      0.975]\n",
      "------------------------------------------------------------------------------\n",
      "x1             0.9067      0.016     55.970      0.000       0.875       0.938\n",
      "==============================================================================\n",
      "Omnibus:                     1227.530   Durbin-Watson:                   1.964\n",
      "Prob(Omnibus):                  0.000   Jarque-Bera (JB):            34867.449\n",
      "Skew:                           0.179   Prob(JB):                         0.00\n",
      "Kurtosis:                      14.519   Cond. No.                         1.00\n",
      "==============================================================================\n",
      "\n",
      "Warnings:\n",
      "[1] Standard Errors assume that the covariance matrix of the errors is correctly specified.\n"
     ]
    }
   ],
   "source": [
    "est = sm.OLS(y, X)\n",
    "est2 = est.fit()\n",
    "print(est2.summary())"
   ]
  },
  {
   "cell_type": "markdown",
   "metadata": {},
   "source": [
    "**$\\beta_{IBM}=0.91$, P is low, we reject the null hypothesis.**"
   ]
  },
  {
   "cell_type": "markdown",
   "metadata": {},
   "source": [
    "### AAPL"
   ]
  },
  {
   "cell_type": "code",
   "execution_count": 6,
   "metadata": {},
   "outputs": [],
   "source": [
    "d=data2[data2.DATE<pd.to_datetime(\"2015-01-01\")]\n",
    "X=np.array(d[[\"RM\"]])\n",
    "y=np.array(d[\"R\"])"
   ]
  },
  {
   "cell_type": "code",
   "execution_count": 7,
   "metadata": {},
   "outputs": [
    {
     "name": "stdout",
     "output_type": "stream",
     "text": [
      "                            OLS Regression Results                            \n",
      "==============================================================================\n",
      "Dep. Variable:                      y   R-squared:                       0.192\n",
      "Model:                            OLS   Adj. R-squared:                  0.192\n",
      "Method:                 Least Squares   F-statistic:                     1500.\n",
      "Date:                Wed, 03 Apr 2019   Prob (F-statistic):          1.61e-294\n",
      "Time:                        10:09:54   Log-Likelihood:                 13915.\n",
      "No. Observations:                6301   AIC:                        -2.783e+04\n",
      "Df Residuals:                    6300   BIC:                        -2.782e+04\n",
      "Df Model:                           1                                         \n",
      "Covariance Type:            nonrobust                                         \n",
      "==============================================================================\n",
      "                 coef    std err          t      P>|t|      [0.025      0.975]\n",
      "------------------------------------------------------------------------------\n",
      "x1             1.1363      0.029     38.728      0.000       1.079       1.194\n",
      "==============================================================================\n",
      "Omnibus:                     1964.903   Durbin-Watson:                   1.980\n",
      "Prob(Omnibus):                  0.000   Jarque-Bera (JB):           232261.428\n",
      "Skew:                          -0.417   Prob(JB):                         0.00\n",
      "Kurtosis:                      32.732   Cond. No.                         1.00\n",
      "==============================================================================\n",
      "\n",
      "Warnings:\n",
      "[1] Standard Errors assume that the covariance matrix of the errors is correctly specified.\n"
     ]
    }
   ],
   "source": [
    "est = sm.OLS(y, X)\n",
    "est2 = est.fit()\n",
    "print(est2.summary())"
   ]
  },
  {
   "cell_type": "markdown",
   "metadata": {},
   "source": [
    "**$\\beta_{AAPL}=1.14$, P is low, we reject the null hypothesis.**"
   ]
  },
  {
   "cell_type": "markdown",
   "metadata": {},
   "source": [
    "### TSLA"
   ]
  },
  {
   "cell_type": "code",
   "execution_count": 8,
   "metadata": {},
   "outputs": [],
   "source": [
    "d=data3[data3.DATE<pd.to_datetime(\"2015-01-01\")]\n",
    "X=np.array(d[[\"RM\"]])\n",
    "y=np.array(d[\"R\"])"
   ]
  },
  {
   "cell_type": "code",
   "execution_count": 9,
   "metadata": {},
   "outputs": [
    {
     "name": "stdout",
     "output_type": "stream",
     "text": [
      "                            OLS Regression Results                            \n",
      "==============================================================================\n",
      "Dep. Variable:                      y   R-squared:                       0.122\n",
      "Model:                            OLS   Adj. R-squared:                  0.121\n",
      "Method:                 Least Squares   F-statistic:                     157.4\n",
      "Date:                Wed, 03 Apr 2019   Prob (F-statistic):           6.51e-34\n",
      "Time:                        10:09:54   Log-Likelihood:                 2219.2\n",
      "No. Observations:                1135   AIC:                            -4436.\n",
      "Df Residuals:                    1134   BIC:                            -4431.\n",
      "Df Model:                           1                                         \n",
      "Covariance Type:            nonrobust                                         \n",
      "==============================================================================\n",
      "                 coef    std err          t      P>|t|      [0.025      0.975]\n",
      "------------------------------------------------------------------------------\n",
      "x1             1.3101      0.104     12.548      0.000       1.105       1.515\n",
      "==============================================================================\n",
      "Omnibus:                      262.175   Durbin-Watson:                   2.005\n",
      "Prob(Omnibus):                  0.000   Jarque-Bera (JB):             2947.095\n",
      "Skew:                           0.726   Prob(JB):                         0.00\n",
      "Kurtosis:                      10.760   Cond. No.                         1.00\n",
      "==============================================================================\n",
      "\n",
      "Warnings:\n",
      "[1] Standard Errors assume that the covariance matrix of the errors is correctly specified.\n"
     ]
    }
   ],
   "source": [
    "est = sm.OLS(y, X)\n",
    "est2 = est.fit()\n",
    "print(est2.summary())"
   ]
  },
  {
   "cell_type": "markdown",
   "metadata": {},
   "source": [
    "**$\\beta_{TSLA}=1.14$, P is low, we reject the null hypothesis.**"
   ]
  },
  {
   "cell_type": "markdown",
   "metadata": {},
   "source": [
    "## (b)"
   ]
  },
  {
   "cell_type": "markdown",
   "metadata": {},
   "source": [
    "let $h=(a,b,c)^T$\n",
    "\n",
    "from self-financing condition, we get $a+b+c=0$\n",
    "\n",
    "from unit exposure to AAPL, we get $b=1$\n",
    "\n",
    "from zero exposure to beta, we get $a\\beta_{IBM}+b\\beta_{AAPL}+c*\\beta_{TSLA}=0$\n",
    "\n",
    "we use following code to solve this linear problem"
   ]
  },
  {
   "cell_type": "code",
   "execution_count": 33,
   "metadata": {},
   "outputs": [
    {
     "data": {
      "text/plain": [
       "array([-0.425,  1.   , -0.575])"
      ]
     },
     "execution_count": 33,
     "metadata": {},
     "output_type": "execute_result"
    }
   ],
   "source": [
    "a = np.array([[1,1,1], [0,1,0],[0.91,1.14,1.31]])\n",
    "b = np.array([0.0,1.0,0.0])\n",
    "x = np.linalg.solve(a, b)\n",
    "x"
   ]
  },
  {
   "cell_type": "markdown",
   "metadata": {},
   "source": [
    "$\\therefore h=(-0.425,1,-0.575)^T$"
   ]
  },
  {
   "cell_type": "markdown",
   "metadata": {},
   "source": [
    "## (C)"
   ]
  },
  {
   "cell_type": "code",
   "execution_count": 11,
   "metadata": {},
   "outputs": [],
   "source": [
    "d1=data1[data1.DATE>=pd.to_datetime(\"2015-01-01\")]\n",
    "d2=data2[data2.DATE>=pd.to_datetime(\"2015-01-01\")]\n",
    "d3=data3[data3.DATE>=pd.to_datetime(\"2015-01-01\")]"
   ]
  },
  {
   "cell_type": "code",
   "execution_count": 17,
   "metadata": {},
   "outputs": [
    {
     "data": {
      "text/plain": [
       "-0.021396825000000078"
      ]
     },
     "execution_count": 17,
     "metadata": {},
     "output_type": "execute_result"
    }
   ],
   "source": [
    "sum(d1.R*(-0.425))+sum(d2.R*1)+sum(d3.R*(-0.575))"
   ]
  },
  {
   "cell_type": "markdown",
   "metadata": {},
   "source": [
    "**cumulative sum of return in 2015 is -0.0214**"
   ]
  },
  {
   "cell_type": "markdown",
   "metadata": {},
   "source": [
    "## (d)"
   ]
  },
  {
   "cell_type": "code",
   "execution_count": 13,
   "metadata": {},
   "outputs": [],
   "source": [
    "ret=np.array(d1.R*(-0.425))+np.array(d2.R*1)+np.array(d3.R*(-0.575))\n",
    "ret_m=np.array(data1[data1.DATE>=pd.to_datetime(\"2015-01-01\")].RM)"
   ]
  },
  {
   "cell_type": "code",
   "execution_count": 14,
   "metadata": {},
   "outputs": [
    {
     "data": {
      "text/plain": [
       "(0.02866801914913187, 0.6512598504889181)"
      ]
     },
     "execution_count": 14,
     "metadata": {},
     "output_type": "execute_result"
    }
   ],
   "source": [
    "pearsonr(ret,ret_m)"
   ]
  },
  {
   "cell_type": "markdown",
   "metadata": {},
   "source": [
    "**P-value is 0.65, not greater than 0.95. So it is not significantly different from 0.**"
   ]
  },
  {
   "cell_type": "markdown",
   "metadata": {},
   "source": [
    "# Problem 4.2"
   ]
  },
  {
   "cell_type": "markdown",
   "metadata": {},
   "source": [
    "## (a)"
   ]
  },
  {
   "cell_type": "markdown",
   "metadata": {},
   "source": [
    "$$\n",
    "    E[h'r]=\\frac{1}{n}\\sum_iE[r_i]=\\beta E[r_m]+\\frac{1}{n}\\sum_iE[\\epsilon_i]\n",
    "$$\n",
    "\n",
    "$$\n",
    "V[h'r]=\\frac{1}{n^2}\\sum_i (\\beta^2\\sigma_m^2+\\sigma_i^2)+\\frac{1}{n^2}\\sum_{i,j,i\\ne j}\\beta^2\\sigma_m^2=\\beta^2\\sigma_m^2+\\sum_i\\frac{1}{n^2}\\sigma_i^2\n",
    "$$\n",
    "\n",
    "$$\n",
    "\\therefore f(\\beta,\\sigma_m^2)=\\beta^2\\sigma_m^2 \\qquad g(\\sigma_1^2,\\dots,\\sigma_n^2)=\\frac{1}{n^2}\\sum_i \\sigma_i^2\n",
    "$$"
   ]
  },
  {
   "cell_type": "markdown",
   "metadata": {},
   "source": [
    "## (b)"
   ]
  },
  {
   "cell_type": "code",
   "execution_count": 2,
   "metadata": {},
   "outputs": [
    {
     "data": {
      "image/png": "[encoded data removed]",
      "text/plain": [
       "<Figure size 432x288 with 1 Axes>"
      ]
     },
     "metadata": {
      "needs_background": "light"
     },
     "output_type": "display_data"
    }
   ],
   "source": [
    "beta=0.5\n",
    "sigmaM=0.2\n",
    "sigmaI=0.03\n",
    "\n",
    "def f(n):\n",
    "    return beta**2*sigmaM**2\n",
    "\n",
    "def g(n):\n",
    "    return sigmaI**2/n\n",
    "\n",
    "def fraction(n):\n",
    "    return f(n)/(f(n)+g(n))\n",
    "\n",
    "x=[]\n",
    "y=[]\n",
    "for i in range(2,31):\n",
    "    x.append(i)\n",
    "    y.append(fraction(i))\n",
    "    \n",
    "import matplotlib.pyplot as plt\n",
    "plt.plot(x,y)\n",
    "plt.title(\"fractin of variance explained by the market\")\n",
    "plt.xlabel('n')\n",
    "plt.show()"
   ]
  },
  {
   "cell_type": "markdown",
   "metadata": {},
   "source": [
    "## (c)"
   ]
  },
  {
   "cell_type": "markdown",
   "metadata": {},
   "source": [
    "In this case,\n",
    "\n",
    "$$\n",
    "E[h'r]=\\frac{1}{n}\\sum_i\\beta E[r_M]+E[\\epsilon_i]\n",
    "$$"
   ]
  },
  {
   "cell_type": "code",
   "execution_count": 3,
   "metadata": {},
   "outputs": [
    {
     "data": {
      "image/png": "[encoded data removed]",
      "text/plain": [
       "<Figure size 432x288 with 1 Axes>"
      ]
     },
     "metadata": {
      "needs_background": "light"
     },
     "output_type": "display_data"
    }
   ],
   "source": [
    "Eepsilon=1.5*sigmaI\n",
    "ErM=0.07\n",
    "\n",
    "def E(n):\n",
    "    return beta*ErM+Eepsilon\n",
    "\n",
    "def V(n):\n",
    "    return f(n)+g(n)\n",
    "\n",
    "def Sharpe(n):\n",
    "    return (E(n)-0.01)/np.sqrt(V(n))\n",
    "\n",
    "x=[]\n",
    "y=[]\n",
    "for i in range(2,31):\n",
    "    x.append(i)\n",
    "    y.append(Sharpe(i))\n",
    "    \n",
    "plt.plot(x,y)\n",
    "plt.title(\"Sharpe Ratio\")\n",
    "plt.xlabel('n')\n",
    "plt.show()"
   ]
  },
  {
   "cell_type": "markdown",
   "metadata": {},
   "source": [
    "**If we change Sharpe of $\\epsilon_i$ from 1.5 to 2.0**"
   ]
  },
  {
   "cell_type": "code",
   "execution_count": 4,
   "metadata": {},
   "outputs": [
    {
     "data": {
      "image/png": "[encoded data removed]",
      "text/plain": [
       "<Figure size 432x288 with 1 Axes>"
      ]
     },
     "metadata": {
      "needs_background": "light"
     },
     "output_type": "display_data"
    }
   ],
   "source": [
    "Eepsilon=2.0*sigmaI\n",
    "\n",
    "x=[]\n",
    "y=[]\n",
    "for i in range(2,31):\n",
    "    x.append(i)\n",
    "    y.append(Sharpe(i))\n",
    "    \n",
    "plt.plot(x,y)\n",
    "plt.title(\"Sharpe Ratio\")\n",
    "plt.xlabel('n')\n",
    "plt.show()"
   ]
  },
  {
   "cell_type": "markdown",
   "metadata": {},
   "source": [
    "## (d)"
   ]
  },
  {
   "cell_type": "markdown",
   "metadata": {},
   "source": [
    "Suppose  Sharpe of  $\\epsilon_i$  is 1.5\n",
    "\n",
    "$$\n",
    "E[h'r]=E[\\epsilon_i]=1.5\\sigma_i\n",
    "$$\n",
    "\n",
    "$$\n",
    "V[h'r]=\\sigma_i^2\n",
    "$$\n",
    "\n",
    "$$\n",
    "\\therefore Sharpe=\\frac{1.5\\sigma_i-0.01}{\\sigma_i}=1.4\n",
    "$$\n",
    "\n",
    "Compare to above scenario, this is much better."
   ]
  }
 ],
 "metadata": {
  "kernelspec": {
   "display_name": "Python 3",
   "language": "python",
   "name": "python3"
  },
  "language_info": {
   "codemirror_mode": {
    "name": "ipython",
    "version": 3
   },
   "file_extension": ".py",
   "mimetype": "text/x-python",
   "name": "python",
   "nbconvert_exporter": "python",
   "pygments_lexer": "ipython3",
   "version": "3.7.2"
  }
 },
 "nbformat": 4,
 "nbformat_minor": 2
}
